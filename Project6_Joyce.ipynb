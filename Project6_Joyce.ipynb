{
  "nbformat": 4,
  "nbformat_minor": 0,
  "metadata": {
    "colab": {
      "name": "Project6_Joyce.ipynb",
      "provenance": [],
      "collapsed_sections": [],
      "mount_file_id": "1S4As1M8iWGIoZm4gExdVQGA4Bqx2Excd",
      "authorship_tag": "ABX9TyOzcMHj2OcIKHpUxIw1lY5R",
      "include_colab_link": true
    },
    "kernelspec": {
      "name": "python3",
      "display_name": "Python 3"
    }
  },
  "cells": [
    {
      "cell_type": "markdown",
      "metadata": {
        "id": "view-in-github",
        "colab_type": "text"
      },
      "source": [
        "<a href=\"https://colab.research.google.com/github/joyceee916/ATMS597-Project-6-Group-C/blob/master/Project6_Joyce.ipynb\" target=\"_parent\"><img src=\"https://colab.research.google.com/assets/colab-badge.svg\" alt=\"Open In Colab\"/></a>"
      ]
    },
    {
      "cell_type": "code",
      "metadata": {
        "id": "DnujlYaHhtXv",
        "colab_type": "code",
        "colab": {}
      },
      "source": [
        "import pandas as pd\n",
        "import numpy as np\n",
        "import matplotlib.pyplot as plt\n",
        "import tensorflow as tf \n",
        "from tensorflow import keras "
      ],
      "execution_count": 0,
      "outputs": []
    },
    {
      "cell_type": "code",
      "metadata": {
        "id": "uQ3G8N3bhw2-",
        "colab_type": "code",
        "outputId": "97187cd4-864f-4e25-c6f5-9fb24b9e8b21",
        "colab": {
          "base_uri": "https://localhost:8080/",
          "height": 72
        }
      },
      "source": [
        "df = pd.read_csv('/content/drive/My Drive/ATMS 597/Project6/openFEMA_claims20190831.csv')"
      ],
      "execution_count": 101,
      "outputs": [
        {
          "output_type": "stream",
          "text": [
            "/usr/local/lib/python3.6/dist-packages/IPython/core/interactiveshell.py:2718: DtypeWarning: Columns (0,11,15,22,23,31,32,37) have mixed types.Specify dtype option on import or set low_memory=False.\n",
            "  interactivity=interactivity, compiler=compiler, result=result)\n"
          ],
          "name": "stderr"
        }
      ]
    },
    {
      "cell_type": "code",
      "metadata": {
        "id": "IFWJ8Lf13NHh",
        "colab_type": "code",
        "colab": {}
      },
      "source": [
        "# Keep only potentially useful columns \n",
        "df = df[['basefloodelevation', 'policycount', 'elevatedbuildingindicator', 'elevationdifference', 'floodzone', 'originalconstructiondate', 'originalnbdate', 'amountpaidonbuildingclaim', 'amountpaidoncontentsclaim', 'amountpaidonincreasedcostofcomplianceclaim', 'postfirmconstructionindicator', 'ratemethod', 'state', 'totalbuildinginsurancecoverage', 'totalcontentsinsurancecoverage', 'yearofloss', 'dateofloss']]\n",
        "\n",
        "# Convert negative values for claims to their positive values (because a negative value means that the check issued to the policyholder wasn't cashed in, and needs to be reissued)\n",
        "df.amountpaidonbuildingclaim = df.amountpaidonbuildingclaim.abs()\n",
        "df.amountpaidoncontentsclaim = df.amountpaidoncontentsclaim.abs()\n",
        "df.amountpaidonincreasedcostofcomplianceclaim = df.amountpaidonincreasedcostofcomplianceclaim.abs()\n",
        "\n",
        "# Replace NaN values for claims with 0\n",
        "df.amountpaidonbuildingclaim.fillna(0, inplace=True)\n",
        "df.amountpaidoncontentsclaim.fillna(0, inplace=True)\n",
        "df.amountpaidonincreasedcostofcomplianceclaim.fillna(0, inplace=True)\n",
        "\n",
        "# Create a new column that is the sum of all of the amounts paid \n",
        "df['totalamountpaid'] = df['amountpaidonbuildingclaim'] + df['amountpaidoncontentsclaim'] + df['amountpaidonincreasedcostofcomplianceclaim']\n",
        "\n",
        "# Delete intermediate columns \n",
        "df.drop(columns=['amountpaidonbuildingclaim', 'amountpaidoncontentsclaim', 'amountpaidonincreasedcostofcomplianceclaim'], inplace=True)\n",
        "\n",
        "# Replace elevation difference values that are 999.0 with NaN \n",
        "df.replace({'elevationdifference': {999.0: np.nan}}, inplace=True)"
      ],
      "execution_count": 0,
      "outputs": []
    },
    {
      "cell_type": "code",
      "metadata": {
        "id": "TLheyqSVEPiw",
        "colab_type": "code",
        "colab": {
          "base_uri": "https://localhost:8080/",
          "height": 281
        },
        "outputId": "9fd03421-d728-4374-8460-a2e07905b371"
      },
      "source": [
        "# Converting categorical variables: one-hot encoding \n",
        "\n",
        "# Unique categories in each column?\n",
        "for col in df.columns: \n",
        "    print(col, ':', len(df[col].unique()), 'labels')\n",
        "\n"
      ],
      "execution_count": 104,
      "outputs": [
        {
          "output_type": "stream",
          "text": [
            "basefloodelevation : 8911 labels\n",
            "policycount : 390 labels\n",
            "elevatedbuildingindicator : 3 labels\n",
            "elevationdifference : 376 labels\n",
            "floodzone : 97 labels\n",
            "originalconstructiondate : 30176 labels\n",
            "originalnbdate : 15814 labels\n",
            "postfirmconstructionindicator : 3 labels\n",
            "ratemethod : 29 labels\n",
            "state : 56 labels\n",
            "totalbuildinginsurancecoverage : 10799 labels\n",
            "totalcontentsinsurancecoverage : 2883 labels\n",
            "yearofloss : 49 labels\n",
            "dateofloss : 15470 labels\n",
            "totalamountpaid : 1297376 labels\n"
          ],
          "name": "stdout"
        }
      ]
    },
    {
      "cell_type": "code",
      "metadata": {
        "id": "ZNVmh1kO-3S5",
        "colab_type": "code",
        "outputId": "ec906848-90b7-46e0-c313-7f3c58c7b343",
        "colab": {
          "base_uri": "https://localhost:8080/",
          "height": 296
        }
      },
      "source": [
        "plt.plot(df.basefloodelevation)"
      ],
      "execution_count": 0,
      "outputs": [
        {
          "output_type": "execute_result",
          "data": {
            "text/plain": [
              "[<matplotlib.lines.Line2D at 0x7f4783925cf8>]"
            ]
          },
          "metadata": {
            "tags": []
          },
          "execution_count": 98
        },
        {
          "output_type": "display_data",
          "data": {
            "image/png": "[encoded data removed]",
            "text/plain": [
              "<Figure size 432x288 with 1 Axes>"
            ]
          },
          "metadata": {
            "tags": [],
            "needs_background": "light"
          }
        }
      ]
    },
    {
      "cell_type": "code",
      "metadata": {
        "id": "6e_Ijsoj8ZOt",
        "colab_type": "code",
        "outputId": "cccfa116-0657-4049-aa25-45d97996dae4",
        "colab": {
          "base_uri": "https://localhost:8080/",
          "height": 175
        }
      },
      "source": [
        "df.basefloodelevation.describe()"
      ],
      "execution_count": 0,
      "outputs": [
        {
          "output_type": "execute_result",
          "data": {
            "text/plain": [
              "count    483587.000000\n",
              "mean         71.337873\n",
              "std         299.905778\n",
              "min       -6002.000000\n",
              "25%           7.000000\n",
              "50%           9.000000\n",
              "75%          14.000000\n",
              "max        9980.000000\n",
              "Name: basefloodelevation, dtype: float64"
            ]
          },
          "metadata": {
            "tags": []
          },
          "execution_count": 96
        }
      ]
    },
    {
      "cell_type": "code",
      "metadata": {
        "id": "0q9WWPmgmwT1",
        "colab_type": "code",
        "outputId": "4fc76fab-fa75-4a71-c02e-e27d9a771901",
        "colab": {
          "base_uri": "https://localhost:8080/",
          "height": 422
        }
      },
      "source": [
        "df"
      ],
      "execution_count": 103,
      "outputs": [
        {
          "output_type": "execute_result",
          "data": {
            "text/html": [
              "<div>\n",
              "<style scoped>\n",
              "    .dataframe tbody tr th:only-of-type {\n",
              "        vertical-align: middle;\n",
              "    }\n",
              "\n",
              "    .dataframe tbody tr th {\n",
              "        vertical-align: top;\n",
              "    }\n",
              "\n",
              "    .dataframe thead th {\n",
              "        text-align: right;\n",
              "    }\n",
              "</style>\n",
              "<table border=\"1\" class=\"dataframe\">\n",
              "  <thead>\n",
              "    <tr style=\"text-align: right;\">\n",
              "      <th></th>\n",
              "      <th>basefloodelevation</th>\n",
              "      <th>policycount</th>\n",
              "      <th>elevatedbuildingindicator</th>\n",
              "      <th>elevationdifference</th>\n",
              "      <th>floodzone</th>\n",
              "      <th>originalconstructiondate</th>\n",
              "      <th>originalnbdate</th>\n",
              "      <th>postfirmconstructionindicator</th>\n",
              "      <th>ratemethod</th>\n",
              "      <th>state</th>\n",
              "      <th>totalbuildinginsurancecoverage</th>\n",
              "      <th>totalcontentsinsurancecoverage</th>\n",
              "      <th>yearofloss</th>\n",
              "      <th>dateofloss</th>\n",
              "      <th>totalamountpaid</th>\n",
              "    </tr>\n",
              "  </thead>\n",
              "  <tbody>\n",
              "    <tr>\n",
              "      <th>0</th>\n",
              "      <td>NaN</td>\n",
              "      <td>1.0</td>\n",
              "      <td>N</td>\n",
              "      <td>NaN</td>\n",
              "      <td>X</td>\n",
              "      <td>1963-01-01</td>\n",
              "      <td>1997-01-11</td>\n",
              "      <td>N</td>\n",
              "      <td>7</td>\n",
              "      <td>CA</td>\n",
              "      <td>200000.0</td>\n",
              "      <td>50000.0</td>\n",
              "      <td>1998</td>\n",
              "      <td>1998-02-07</td>\n",
              "      <td>0.00</td>\n",
              "    </tr>\n",
              "    <tr>\n",
              "      <th>1</th>\n",
              "      <td>NaN</td>\n",
              "      <td>1.0</td>\n",
              "      <td>N</td>\n",
              "      <td>NaN</td>\n",
              "      <td>X</td>\n",
              "      <td>1967-07-01</td>\n",
              "      <td>1990-07-12</td>\n",
              "      <td>N</td>\n",
              "      <td>7</td>\n",
              "      <td>LA</td>\n",
              "      <td>100000.0</td>\n",
              "      <td>40000.0</td>\n",
              "      <td>2005</td>\n",
              "      <td>2005-08-29</td>\n",
              "      <td>0.00</td>\n",
              "    </tr>\n",
              "    <tr>\n",
              "      <th>2</th>\n",
              "      <td>NaN</td>\n",
              "      <td>1.0</td>\n",
              "      <td>N</td>\n",
              "      <td>NaN</td>\n",
              "      <td>X</td>\n",
              "      <td>1972-01-01</td>\n",
              "      <td>1997-07-24</td>\n",
              "      <td>N</td>\n",
              "      <td>1</td>\n",
              "      <td>FL</td>\n",
              "      <td>100000.0</td>\n",
              "      <td>50000.0</td>\n",
              "      <td>1998</td>\n",
              "      <td>1998-09-28</td>\n",
              "      <td>10533.21</td>\n",
              "    </tr>\n",
              "    <tr>\n",
              "      <th>3</th>\n",
              "      <td>NaN</td>\n",
              "      <td>1.0</td>\n",
              "      <td>N</td>\n",
              "      <td>NaN</td>\n",
              "      <td>X</td>\n",
              "      <td>1960-01-01</td>\n",
              "      <td>1993-10-01</td>\n",
              "      <td>N</td>\n",
              "      <td>7</td>\n",
              "      <td>SC</td>\n",
              "      <td>100000.0</td>\n",
              "      <td>25000.0</td>\n",
              "      <td>1994</td>\n",
              "      <td>1994-10-07</td>\n",
              "      <td>2906.00</td>\n",
              "    </tr>\n",
              "    <tr>\n",
              "      <th>4</th>\n",
              "      <td>NaN</td>\n",
              "      <td>1.0</td>\n",
              "      <td>N</td>\n",
              "      <td>NaN</td>\n",
              "      <td>X</td>\n",
              "      <td>1988-01-01</td>\n",
              "      <td>1996-01-11</td>\n",
              "      <td>Y</td>\n",
              "      <td>7</td>\n",
              "      <td>FL</td>\n",
              "      <td>100000.0</td>\n",
              "      <td>25000.0</td>\n",
              "      <td>1996</td>\n",
              "      <td>1996-03-11</td>\n",
              "      <td>5420.53</td>\n",
              "    </tr>\n",
              "    <tr>\n",
              "      <th>...</th>\n",
              "      <td>...</td>\n",
              "      <td>...</td>\n",
              "      <td>...</td>\n",
              "      <td>...</td>\n",
              "      <td>...</td>\n",
              "      <td>...</td>\n",
              "      <td>...</td>\n",
              "      <td>...</td>\n",
              "      <td>...</td>\n",
              "      <td>...</td>\n",
              "      <td>...</td>\n",
              "      <td>...</td>\n",
              "      <td>...</td>\n",
              "      <td>...</td>\n",
              "      <td>...</td>\n",
              "    </tr>\n",
              "    <tr>\n",
              "      <th>2432883</th>\n",
              "      <td>9.0</td>\n",
              "      <td>1.0</td>\n",
              "      <td>N</td>\n",
              "      <td>1.0</td>\n",
              "      <td>AHB</td>\n",
              "      <td>1985-01-01</td>\n",
              "      <td>2003-12-06</td>\n",
              "      <td>Y</td>\n",
              "      <td>1</td>\n",
              "      <td>FL</td>\n",
              "      <td>131000.0</td>\n",
              "      <td>45000.0</td>\n",
              "      <td>2005</td>\n",
              "      <td>2005-08-26</td>\n",
              "      <td>6123.27</td>\n",
              "    </tr>\n",
              "    <tr>\n",
              "      <th>2432884</th>\n",
              "      <td>9.0</td>\n",
              "      <td>1.0</td>\n",
              "      <td>N</td>\n",
              "      <td>1.0</td>\n",
              "      <td>AHB</td>\n",
              "      <td>1990-01-01</td>\n",
              "      <td>2004-02-04</td>\n",
              "      <td>Y</td>\n",
              "      <td>1</td>\n",
              "      <td>FL</td>\n",
              "      <td>153300.0</td>\n",
              "      <td>76700.0</td>\n",
              "      <td>2005</td>\n",
              "      <td>2005-08-25</td>\n",
              "      <td>5010.88</td>\n",
              "    </tr>\n",
              "    <tr>\n",
              "      <th>2432885</th>\n",
              "      <td>10.0</td>\n",
              "      <td>1.0</td>\n",
              "      <td>N</td>\n",
              "      <td>-1.0</td>\n",
              "      <td>AE</td>\n",
              "      <td>1959-01-01</td>\n",
              "      <td>2004-07-16</td>\n",
              "      <td>N</td>\n",
              "      <td>1</td>\n",
              "      <td>FL</td>\n",
              "      <td>245000.0</td>\n",
              "      <td>100000.0</td>\n",
              "      <td>2005</td>\n",
              "      <td>2005-06-20</td>\n",
              "      <td>8335.35</td>\n",
              "    </tr>\n",
              "    <tr>\n",
              "      <th>2432886</th>\n",
              "      <td>NaN</td>\n",
              "      <td>1.0</td>\n",
              "      <td>N</td>\n",
              "      <td>NaN</td>\n",
              "      <td>AE</td>\n",
              "      <td>1959-01-01</td>\n",
              "      <td>2004-07-16</td>\n",
              "      <td>N</td>\n",
              "      <td>1</td>\n",
              "      <td>FL</td>\n",
              "      <td>245000.0</td>\n",
              "      <td>100000.0</td>\n",
              "      <td>2005</td>\n",
              "      <td>2005-08-25</td>\n",
              "      <td>2396.44</td>\n",
              "    </tr>\n",
              "    <tr>\n",
              "      <th>2432887</th>\n",
              "      <td>9.0</td>\n",
              "      <td>1.0</td>\n",
              "      <td>N</td>\n",
              "      <td>0.0</td>\n",
              "      <td>AHB</td>\n",
              "      <td>1953-01-01</td>\n",
              "      <td>2004-09-16</td>\n",
              "      <td>N</td>\n",
              "      <td>1</td>\n",
              "      <td>FL</td>\n",
              "      <td>17900.0</td>\n",
              "      <td>0.0</td>\n",
              "      <td>2005</td>\n",
              "      <td>2005-08-25</td>\n",
              "      <td>17900.00</td>\n",
              "    </tr>\n",
              "  </tbody>\n",
              "</table>\n",
              "<p>2432888 rows × 15 columns</p>\n",
              "</div>"
            ],
            "text/plain": [
              "         basefloodelevation  policycount  ...  dateofloss  totalamountpaid\n",
              "0                       NaN          1.0  ...  1998-02-07             0.00\n",
              "1                       NaN          1.0  ...  2005-08-29             0.00\n",
              "2                       NaN          1.0  ...  1998-09-28         10533.21\n",
              "3                       NaN          1.0  ...  1994-10-07          2906.00\n",
              "4                       NaN          1.0  ...  1996-03-11          5420.53\n",
              "...                     ...          ...  ...         ...              ...\n",
              "2432883                 9.0          1.0  ...  2005-08-26          6123.27\n",
              "2432884                 9.0          1.0  ...  2005-08-25          5010.88\n",
              "2432885                10.0          1.0  ...  2005-06-20          8335.35\n",
              "2432886                 NaN          1.0  ...  2005-08-25          2396.44\n",
              "2432887                 9.0          1.0  ...  2005-08-25         17900.00\n",
              "\n",
              "[2432888 rows x 15 columns]"
            ]
          },
          "metadata": {
            "tags": []
          },
          "execution_count": 103
        }
      ]
    },
    {
      "cell_type": "code",
      "metadata": {
        "id": "rH1JdhFTCA34",
        "colab_type": "code",
        "colab": {}
      },
      "source": [
        ""
      ],
      "execution_count": 0,
      "outputs": []
    }
  ]
}