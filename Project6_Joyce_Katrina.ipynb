{
  "nbformat": 4,
  "nbformat_minor": 0,
  "metadata": {
    "colab": {
      "name": "Project6_Joyce_Katrina.ipynb",
      "provenance": [],
      "collapsed_sections": [],
      "mount_file_id": "1P8XOu-GgWqkZXs7XBG8Ler7gl0XMCkTs",
      "authorship_tag": "ABX9TyPP2FlNS8PcfcJgJykuApNs",
      "include_colab_link": true
    },
    "kernelspec": {
      "name": "python3",
      "display_name": "Python 3"
    }
  },
  "cells": [
    {
      "cell_type": "markdown",
      "metadata": {
        "id": "view-in-github",
        "colab_type": "text"
      },
      "source": [
        "<a href=\"https://colab.research.google.com/github/joyceee916/ATMS597-Project-6-Group-C/blob/master/Project6_Joyce_Katrina.ipynb\" target=\"_parent\"><img src=\"https://colab.research.google.com/assets/colab-badge.svg\" alt=\"Open In Colab\"/></a>"
      ]
    },
    {
      "cell_type": "code",
      "metadata": {
        "id": "DnujlYaHhtXv",
        "colab_type": "code",
        "colab": {}
      },
      "source": [
        "import pandas as pd\n",
        "import numpy as np\n",
        "import matplotlib.pyplot as plt\n",
        "import tensorflow as tf \n",
        "from tensorflow import keras \n",
        "from keras.models import Sequential \n",
        "from keras.layers import Dense\n",
        "from keras.callbacks import EarlyStopping\n",
        "from sklearn import datasets, linear_model\n",
        "from sklearn.model_selection import train_test_split"
      ],
      "execution_count": 0,
      "outputs": []
    },
    {
      "cell_type": "code",
      "metadata": {
        "id": "uQ3G8N3bhw2-",
        "colab_type": "code",
        "outputId": "d11e3e79-1cf5-4070-c65c-dc33580b670c",
        "colab": {
          "base_uri": "https://localhost:8080/",
          "height": 72
        }
      },
      "source": [
        "df = pd.read_csv('/content/drive/My Drive/ATMS 597/Project6/openFEMA_claims20190831.csv')"
      ],
      "execution_count": 103,
      "outputs": [
        {
          "output_type": "stream",
          "text": [
            "/usr/local/lib/python3.6/dist-packages/IPython/core/interactiveshell.py:2718: DtypeWarning: Columns (0,11,15,22,23,31,32,37) have mixed types.Specify dtype option on import or set low_memory=False.\n",
            "  interactivity=interactivity, compiler=compiler, result=result)\n"
          ],
          "name": "stderr"
        }
      ]
    },
    {
      "cell_type": "code",
      "metadata": {
        "id": "IFWJ8Lf13NHh",
        "colab_type": "code",
        "colab": {}
      },
      "source": [
        "# Keep only potentially useful columns \n",
        "df = df[['basefloodelevation', 'policycount', 'elevatedbuildingindicator', 'elevationdifference', 'floodzone', 'originalconstructiondate', 'originalnbdate', 'amountpaidonbuildingclaim', 'amountpaidoncontentsclaim', 'amountpaidonincreasedcostofcomplianceclaim', 'postfirmconstructionindicator', 'ratemethod', 'state', 'totalbuildinginsurancecoverage', 'totalcontentsinsurancecoverage', 'yearofloss', 'dateofloss']]\n",
        "\n",
        "# Convert negative values for claims to their positive values (because a negative value means that the check issued to the policyholder wasn't cashed in, and needs to be reissued)\n",
        "df.amountpaidonbuildingclaim = df.amountpaidonbuildingclaim.abs()\n",
        "df.amountpaidoncontentsclaim = df.amountpaidoncontentsclaim.abs()\n",
        "df.amountpaidonincreasedcostofcomplianceclaim = df.amountpaidonincreasedcostofcomplianceclaim.abs()\n",
        "\n",
        "# Replace NaN values for claims with 0\n",
        "df.amountpaidonbuildingclaim.fillna(0, inplace=True)\n",
        "df.amountpaidoncontentsclaim.fillna(0, inplace=True)\n",
        "df.amountpaidonincreasedcostofcomplianceclaim.fillna(0, inplace=True)\n",
        "\n",
        "# Create a new column that is the sum of all of the amounts paid \n",
        "df['totalamountpaid'] = df['amountpaidonbuildingclaim'] + df['amountpaidoncontentsclaim'] + df['amountpaidonincreasedcostofcomplianceclaim']\n",
        "\n",
        "# Delete intermediate columns \n",
        "df.drop(columns=['amountpaidonbuildingclaim', 'amountpaidoncontentsclaim', 'amountpaidonincreasedcostofcomplianceclaim'], inplace=True)\n",
        "\n",
        "# Replace elevation difference values that are 999.0 with NaN \n",
        "df.replace({'elevationdifference': {999.0: np.nan}}, inplace=True)"
      ],
      "execution_count": 0,
      "outputs": []
    },
    {
      "cell_type": "code",
      "metadata": {
        "id": "VDyftWkgLlqB",
        "colab_type": "code",
        "colab": {
          "base_uri": "https://localhost:8080/",
          "height": 422
        },
        "outputId": "46552dec-0dcd-42c8-c56d-4774572fb3c1"
      },
      "source": [
        "df"
      ],
      "execution_count": 105,
      "outputs": [
        {
          "output_type": "execute_result",
          "data": {
            "text/html": [
              "<div>\n",
              "<style scoped>\n",
              "    .dataframe tbody tr th:only-of-type {\n",
              "        vertical-align: middle;\n",
              "    }\n",
              "\n",
              "    .dataframe tbody tr th {\n",
              "        vertical-align: top;\n",
              "    }\n",
              "\n",
              "    .dataframe thead th {\n",
              "        text-align: right;\n",
              "    }\n",
              "</style>\n",
              "<table border=\"1\" class=\"dataframe\">\n",
              "  <thead>\n",
              "    <tr style=\"text-align: right;\">\n",
              "      <th></th>\n",
              "      <th>basefloodelevation</th>\n",
              "      <th>policycount</th>\n",
              "      <th>elevatedbuildingindicator</th>\n",
              "      <th>elevationdifference</th>\n",
              "      <th>floodzone</th>\n",
              "      <th>originalconstructiondate</th>\n",
              "      <th>originalnbdate</th>\n",
              "      <th>postfirmconstructionindicator</th>\n",
              "      <th>ratemethod</th>\n",
              "      <th>state</th>\n",
              "      <th>totalbuildinginsurancecoverage</th>\n",
              "      <th>totalcontentsinsurancecoverage</th>\n",
              "      <th>yearofloss</th>\n",
              "      <th>dateofloss</th>\n",
              "      <th>totalamountpaid</th>\n",
              "    </tr>\n",
              "  </thead>\n",
              "  <tbody>\n",
              "    <tr>\n",
              "      <th>0</th>\n",
              "      <td>NaN</td>\n",
              "      <td>1.0</td>\n",
              "      <td>N</td>\n",
              "      <td>NaN</td>\n",
              "      <td>X</td>\n",
              "      <td>1963-01-01</td>\n",
              "      <td>1997-01-11</td>\n",
              "      <td>N</td>\n",
              "      <td>7</td>\n",
              "      <td>CA</td>\n",
              "      <td>200000.0</td>\n",
              "      <td>50000.0</td>\n",
              "      <td>1998</td>\n",
              "      <td>1998-02-07</td>\n",
              "      <td>0.00</td>\n",
              "    </tr>\n",
              "    <tr>\n",
              "      <th>1</th>\n",
              "      <td>NaN</td>\n",
              "      <td>1.0</td>\n",
              "      <td>N</td>\n",
              "      <td>NaN</td>\n",
              "      <td>X</td>\n",
              "      <td>1967-07-01</td>\n",
              "      <td>1990-07-12</td>\n",
              "      <td>N</td>\n",
              "      <td>7</td>\n",
              "      <td>LA</td>\n",
              "      <td>100000.0</td>\n",
              "      <td>40000.0</td>\n",
              "      <td>2005</td>\n",
              "      <td>2005-08-29</td>\n",
              "      <td>0.00</td>\n",
              "    </tr>\n",
              "    <tr>\n",
              "      <th>2</th>\n",
              "      <td>NaN</td>\n",
              "      <td>1.0</td>\n",
              "      <td>N</td>\n",
              "      <td>NaN</td>\n",
              "      <td>X</td>\n",
              "      <td>1972-01-01</td>\n",
              "      <td>1997-07-24</td>\n",
              "      <td>N</td>\n",
              "      <td>1</td>\n",
              "      <td>FL</td>\n",
              "      <td>100000.0</td>\n",
              "      <td>50000.0</td>\n",
              "      <td>1998</td>\n",
              "      <td>1998-09-28</td>\n",
              "      <td>10533.21</td>\n",
              "    </tr>\n",
              "    <tr>\n",
              "      <th>3</th>\n",
              "      <td>NaN</td>\n",
              "      <td>1.0</td>\n",
              "      <td>N</td>\n",
              "      <td>NaN</td>\n",
              "      <td>X</td>\n",
              "      <td>1960-01-01</td>\n",
              "      <td>1993-10-01</td>\n",
              "      <td>N</td>\n",
              "      <td>7</td>\n",
              "      <td>SC</td>\n",
              "      <td>100000.0</td>\n",
              "      <td>25000.0</td>\n",
              "      <td>1994</td>\n",
              "      <td>1994-10-07</td>\n",
              "      <td>2906.00</td>\n",
              "    </tr>\n",
              "    <tr>\n",
              "      <th>4</th>\n",
              "      <td>NaN</td>\n",
              "      <td>1.0</td>\n",
              "      <td>N</td>\n",
              "      <td>NaN</td>\n",
              "      <td>X</td>\n",
              "      <td>1988-01-01</td>\n",
              "      <td>1996-01-11</td>\n",
              "      <td>Y</td>\n",
              "      <td>7</td>\n",
              "      <td>FL</td>\n",
              "      <td>100000.0</td>\n",
              "      <td>25000.0</td>\n",
              "      <td>1996</td>\n",
              "      <td>1996-03-11</td>\n",
              "      <td>5420.53</td>\n",
              "    </tr>\n",
              "    <tr>\n",
              "      <th>...</th>\n",
              "      <td>...</td>\n",
              "      <td>...</td>\n",
              "      <td>...</td>\n",
              "      <td>...</td>\n",
              "      <td>...</td>\n",
              "      <td>...</td>\n",
              "      <td>...</td>\n",
              "      <td>...</td>\n",
              "      <td>...</td>\n",
              "      <td>...</td>\n",
              "      <td>...</td>\n",
              "      <td>...</td>\n",
              "      <td>...</td>\n",
              "      <td>...</td>\n",
              "      <td>...</td>\n",
              "    </tr>\n",
              "    <tr>\n",
              "      <th>2432883</th>\n",
              "      <td>9.0</td>\n",
              "      <td>1.0</td>\n",
              "      <td>N</td>\n",
              "      <td>1.0</td>\n",
              "      <td>AHB</td>\n",
              "      <td>1985-01-01</td>\n",
              "      <td>2003-12-06</td>\n",
              "      <td>Y</td>\n",
              "      <td>1</td>\n",
              "      <td>FL</td>\n",
              "      <td>131000.0</td>\n",
              "      <td>45000.0</td>\n",
              "      <td>2005</td>\n",
              "      <td>2005-08-26</td>\n",
              "      <td>6123.27</td>\n",
              "    </tr>\n",
              "    <tr>\n",
              "      <th>2432884</th>\n",
              "      <td>9.0</td>\n",
              "      <td>1.0</td>\n",
              "      <td>N</td>\n",
              "      <td>1.0</td>\n",
              "      <td>AHB</td>\n",
              "      <td>1990-01-01</td>\n",
              "      <td>2004-02-04</td>\n",
              "      <td>Y</td>\n",
              "      <td>1</td>\n",
              "      <td>FL</td>\n",
              "      <td>153300.0</td>\n",
              "      <td>76700.0</td>\n",
              "      <td>2005</td>\n",
              "      <td>2005-08-25</td>\n",
              "      <td>5010.88</td>\n",
              "    </tr>\n",
              "    <tr>\n",
              "      <th>2432885</th>\n",
              "      <td>10.0</td>\n",
              "      <td>1.0</td>\n",
              "      <td>N</td>\n",
              "      <td>-1.0</td>\n",
              "      <td>AE</td>\n",
              "      <td>1959-01-01</td>\n",
              "      <td>2004-07-16</td>\n",
              "      <td>N</td>\n",
              "      <td>1</td>\n",
              "      <td>FL</td>\n",
              "      <td>245000.0</td>\n",
              "      <td>100000.0</td>\n",
              "      <td>2005</td>\n",
              "      <td>2005-06-20</td>\n",
              "      <td>8335.35</td>\n",
              "    </tr>\n",
              "    <tr>\n",
              "      <th>2432886</th>\n",
              "      <td>NaN</td>\n",
              "      <td>1.0</td>\n",
              "      <td>N</td>\n",
              "      <td>NaN</td>\n",
              "      <td>AE</td>\n",
              "      <td>1959-01-01</td>\n",
              "      <td>2004-07-16</td>\n",
              "      <td>N</td>\n",
              "      <td>1</td>\n",
              "      <td>FL</td>\n",
              "      <td>245000.0</td>\n",
              "      <td>100000.0</td>\n",
              "      <td>2005</td>\n",
              "      <td>2005-08-25</td>\n",
              "      <td>2396.44</td>\n",
              "    </tr>\n",
              "    <tr>\n",
              "      <th>2432887</th>\n",
              "      <td>9.0</td>\n",
              "      <td>1.0</td>\n",
              "      <td>N</td>\n",
              "      <td>0.0</td>\n",
              "      <td>AHB</td>\n",
              "      <td>1953-01-01</td>\n",
              "      <td>2004-09-16</td>\n",
              "      <td>N</td>\n",
              "      <td>1</td>\n",
              "      <td>FL</td>\n",
              "      <td>17900.0</td>\n",
              "      <td>0.0</td>\n",
              "      <td>2005</td>\n",
              "      <td>2005-08-25</td>\n",
              "      <td>17900.00</td>\n",
              "    </tr>\n",
              "  </tbody>\n",
              "</table>\n",
              "<p>2432888 rows × 15 columns</p>\n",
              "</div>"
            ],
            "text/plain": [
              "         basefloodelevation  policycount  ...  dateofloss  totalamountpaid\n",
              "0                       NaN          1.0  ...  1998-02-07             0.00\n",
              "1                       NaN          1.0  ...  2005-08-29             0.00\n",
              "2                       NaN          1.0  ...  1998-09-28         10533.21\n",
              "3                       NaN          1.0  ...  1994-10-07          2906.00\n",
              "4                       NaN          1.0  ...  1996-03-11          5420.53\n",
              "...                     ...          ...  ...         ...              ...\n",
              "2432883                 9.0          1.0  ...  2005-08-26          6123.27\n",
              "2432884                 9.0          1.0  ...  2005-08-25          5010.88\n",
              "2432885                10.0          1.0  ...  2005-06-20          8335.35\n",
              "2432886                 NaN          1.0  ...  2005-08-25          2396.44\n",
              "2432887                 9.0          1.0  ...  2005-08-25         17900.00\n",
              "\n",
              "[2432888 rows x 15 columns]"
            ]
          },
          "metadata": {
            "tags": []
          },
          "execution_count": 105
        }
      ]
    },
    {
      "cell_type": "code",
      "metadata": {
        "id": "TfhXr3XULorH",
        "colab_type": "code",
        "colab": {}
      },
      "source": [
        "df['originalconstructiondate'] = pd.to_datetime(df['originalconstructiondate'], errors='coerce')\n",
        "df['originalnbdate'] = pd.to_datetime(df['originalnbdate'])\n",
        "df['dateofloss'] = pd.to_datetime(df['dateofloss'])"
      ],
      "execution_count": 0,
      "outputs": []
    },
    {
      "cell_type": "code",
      "metadata": {
        "id": "1rHAlZwH_7Xh",
        "colab_type": "code",
        "colab": {}
      },
      "source": [
        "df.replace({'elevatedbuildingindicator': {'Y': 1, 'N': 0}}, inplace=True)\n",
        "df.replace({'postfirmconstructionindicator': {'Y': 1, 'N': 0}}, inplace=True)\n",
        "df.replace({'ratemethod': {'B': 10, 'A': 11, 'Q':12, 'P':13, 'W':14, 'S':15, 'F':16, 'E': 17, 9.0:9, 8.0:8, 5.0:5, 6.0:6, \n",
        "                           'G':18, 'T':19, '7':7, '1':1, '2':2, '4':4, '3':3, '8':8, '6':6, '9':9, '5':5}}, inplace=True)"
      ],
      "execution_count": 0,
      "outputs": []
    },
    {
      "cell_type": "code",
      "metadata": {
        "id": "Bvk7tQNTlLD7",
        "colab_type": "code",
        "colab": {
          "base_uri": "https://localhost:8080/",
          "height": 140
        },
        "outputId": "5806fa58-b997-40f2-dc77-a8ed011edacd"
      },
      "source": [
        "df[features].dtypes"
      ],
      "execution_count": 108,
      "outputs": [
        {
          "output_type": "execute_result",
          "data": {
            "text/plain": [
              "basefloodelevation                float64\n",
              "policycount                       float64\n",
              "totalbuildinginsurancecoverage    float64\n",
              "totalcontentsinsurancecoverage    float64\n",
              "postfirmconstructionindicator     float64\n",
              "yearofloss                          int64\n",
              "dtype: object"
            ]
          },
          "metadata": {
            "tags": []
          },
          "execution_count": 108
        }
      ]
    },
    {
      "cell_type": "code",
      "metadata": {
        "id": "kx5na6D1lWXO",
        "colab_type": "code",
        "colab": {
          "base_uri": "https://localhost:8080/",
          "height": 52
        },
        "outputId": "403c6607-c6f1-43fa-d8b4-5cc095ff8aa4"
      },
      "source": [
        "df.ratemethod.unique()"
      ],
      "execution_count": 109,
      "outputs": [
        {
          "output_type": "execute_result",
          "data": {
            "text/plain": [
              "array([ 7.,  1.,  2., nan,  4., 10., 11., 12., 13., 14.,  3.,  8., 15.,\n",
              "        6., 16.,  9., 17.,  5., 18., 19.])"
            ]
          },
          "metadata": {
            "tags": []
          },
          "execution_count": 109
        }
      ]
    },
    {
      "cell_type": "code",
      "metadata": {
        "id": "_MpIYeXrMIY2",
        "colab_type": "code",
        "colab": {}
      },
      "source": [
        "# Hurricane Katrina was from August 23, 2005 to August 31, 2005 \n",
        "katrina = df[(df['dateofloss'] > '2005-08-22') & (df['dateofloss'] < '2005-09-01')]"
      ],
      "execution_count": 0,
      "outputs": []
    },
    {
      "cell_type": "code",
      "metadata": {
        "id": "B2ASNx96iPgK",
        "colab_type": "code",
        "colab": {}
      },
      "source": [
        "features = ['basefloodelevation', 'policycount', 'elevatedbuildingindicator', 'elevationdifference', 'postfirmconstructionindicator', 'ratemethod', 'totalbuildinginsurancecoverage', 'totalcontentsinsurancecoverage', 'yearofloss']\n",
        "features = ['basefloodelevation', 'policycount', 'totalbuildinginsurancecoverage', 'totalcontentsinsurancecoverage', 'postfirmconstructionindicator', 'yearofloss', 'ratemethod']\n",
        "target = ['totalamountpaid']    \n",
        "\n",
        "x_train, x_test, y_train, y_test = train_test_split(katrina[features], katrina[target], test_size=0.2)"
      ],
      "execution_count": 0,
      "outputs": []
    },
    {
      "cell_type": "code",
      "metadata": {
        "id": "0or1yXl_jdun",
        "colab_type": "code",
        "colab": {
          "base_uri": "https://localhost:8080/",
          "height": 87
        },
        "outputId": "d95ee948-a721-4f4a-d82a-62efb28d86da"
      },
      "source": [
        "print(x_train.shape)\n",
        "print(y_train.shape)\n",
        "print(x_test.shape)\n",
        "print(y_test.shape)"
      ],
      "execution_count": 123,
      "outputs": [
        {
          "output_type": "stream",
          "text": [
            "(168765, 7)\n",
            "(168765, 1)\n",
            "(42192, 7)\n",
            "(42192, 1)\n"
          ],
          "name": "stdout"
        }
      ]
    },
    {
      "cell_type": "code",
      "metadata": {
        "id": "zU5N1Q5miOxT",
        "colab_type": "code",
        "colab": {}
      },
      "source": [
        "model = Sequential()\n",
        "\n",
        "n_cols = x_train.shape[1]\n",
        "\n",
        "model.add(Dense(10, activation='relu', input_shape=(n_cols,)))\n",
        "model.add(Dense(10, activation='relu'))\n",
        "model.add(Dense(1))"
      ],
      "execution_count": 0,
      "outputs": []
    },
    {
      "cell_type": "code",
      "metadata": {
        "id": "G_o84oTPkr5z",
        "colab_type": "code",
        "colab": {}
      },
      "source": [
        "model.compile(optimizer='adam', loss='mean_squared_error')"
      ],
      "execution_count": 0,
      "outputs": []
    },
    {
      "cell_type": "code",
      "metadata": {
        "id": "XDKAxk74k1_C",
        "colab_type": "code",
        "colab": {
          "base_uri": "https://localhost:8080/",
          "height": 158
        },
        "outputId": "12790233-adc8-4dd8-cfbd-7fc8f4090305"
      },
      "source": [
        "early_stopping_monitor = EarlyStopping(patience=3)\n",
        "\n",
        "model.fit(x_train, y_train, epochs=10, validation_split=0.2, callbacks=[early_stopping_monitor])"
      ],
      "execution_count": 126,
      "outputs": [
        {
          "output_type": "stream",
          "text": [
            "Train on 135012 samples, validate on 33753 samples\n",
            "Epoch 1/10\n",
            "135012/135012 [==============================] - 5s 39us/step - loss: nan - val_loss: nan\n",
            "Epoch 2/10\n",
            "135012/135012 [==============================] - 5s 38us/step - loss: nan - val_loss: nan\n",
            "Epoch 3/10\n",
            "135012/135012 [==============================] - 5s 40us/step - loss: nan - val_loss: nan\n"
          ],
          "name": "stdout"
        },
        {
          "output_type": "execute_result",
          "data": {
            "text/plain": [
              "<keras.callbacks.callbacks.History at 0x7fef906c6f60>"
            ]
          },
          "metadata": {
            "tags": []
          },
          "execution_count": 126
        }
      ]
    },
    {
      "cell_type": "markdown",
      "metadata": {
        "id": "gxH77HC9KxKx",
        "colab_type": "text"
      },
      "source": [
        "Understanding the Data"
      ]
    },
    {
      "cell_type": "code",
      "metadata": {
        "id": "TLheyqSVEPiw",
        "colab_type": "code",
        "outputId": "0ea6467a-36a6-4fd1-81f6-22ade3ea5849",
        "colab": {
          "base_uri": "https://localhost:8080/",
          "height": 281
        }
      },
      "source": [
        "# Unique categories in each column?\n",
        "for col in katrina.columns: \n",
        "    print(col, ':', len(katrina[col].unique()), 'labels')"
      ],
      "execution_count": 42,
      "outputs": [
        {
          "output_type": "stream",
          "text": [
            "basefloodelevation : 566 labels\n",
            "policycount : 101 labels\n",
            "elevatedbuildingindicator : 2 labels\n",
            "elevationdifference : 66 labels\n",
            "floodzone : 56 labels\n",
            "originalconstructiondate : 13489 labels\n",
            "originalnbdate : 7453 labels\n",
            "postfirmconstructionindicator : 3 labels\n",
            "ratemethod : 13 labels\n",
            "state : 43 labels\n",
            "totalbuildinginsurancecoverage : 3526 labels\n",
            "totalcontentsinsurancecoverage : 1489 labels\n",
            "yearofloss : 1 labels\n",
            "dateofloss : 9 labels\n",
            "totalamountpaid : 78798 labels\n"
          ],
          "name": "stdout"
        }
      ]
    },
    {
      "cell_type": "code",
      "metadata": {
        "id": "g4hdpqChKy8H",
        "colab_type": "code",
        "outputId": "879bf220-909c-4bf3-b9a4-0ad2674adc60",
        "colab": {
          "base_uri": "https://localhost:8080/",
          "height": 298
        }
      },
      "source": [
        "katrina.dtypes"
      ],
      "execution_count": 43,
      "outputs": [
        {
          "output_type": "execute_result",
          "data": {
            "text/plain": [
              "basefloodelevation                       float64\n",
              "policycount                              float64\n",
              "elevatedbuildingindicator                  int64\n",
              "elevationdifference                      float64\n",
              "floodzone                                 object\n",
              "originalconstructiondate          datetime64[ns]\n",
              "originalnbdate                    datetime64[ns]\n",
              "postfirmconstructionindicator            float64\n",
              "ratemethod                                object\n",
              "state                                     object\n",
              "totalbuildinginsurancecoverage           float64\n",
              "totalcontentsinsurancecoverage           float64\n",
              "yearofloss                                 int64\n",
              "dateofloss                        datetime64[ns]\n",
              "totalamountpaid                          float64\n",
              "dtype: object"
            ]
          },
          "metadata": {
            "tags": []
          },
          "execution_count": 43
        }
      ]
    },
    {
      "cell_type": "code",
      "metadata": {
        "id": "rp8tB45OOhRn",
        "colab_type": "code",
        "colab": {
          "base_uri": "https://localhost:8080/",
          "height": 34
        },
        "outputId": "23d538b5-7896-4cbd-dc4a-9f0fd8fa9165"
      },
      "source": [
        "katrina.elevatedbuildingindicator.unique()"
      ],
      "execution_count": 30,
      "outputs": [
        {
          "output_type": "execute_result",
          "data": {
            "text/plain": [
              "array(['N', 'Y'], dtype=object)"
            ]
          },
          "metadata": {
            "tags": []
          },
          "execution_count": 30
        }
      ]
    },
    {
      "cell_type": "code",
      "metadata": {
        "id": "ZNVmh1kO-3S5",
        "colab_type": "code",
        "outputId": "d9704a1c-d3ba-4723-b10c-07804d1b07c3",
        "colab": {
          "base_uri": "https://localhost:8080/",
          "height": 296
        }
      },
      "source": [
        "plt.plot(katrina.basefloodelevation)"
      ],
      "execution_count": 23,
      "outputs": [
        {
          "output_type": "execute_result",
          "data": {
            "text/plain": [
              "[<matplotlib.lines.Line2D at 0x7fef8f97f668>]"
            ]
          },
          "metadata": {
            "tags": []
          },
          "execution_count": 23
        },
        {
          "output_type": "display_data",
          "data": {
            "image/png": "[encoded data removed]",
            "text/plain": [
              "<Figure size 432x288 with 1 Axes>"
            ]
          },
          "metadata": {
            "tags": [],
            "needs_background": "light"
          }
        }
      ]
    },
    {
      "cell_type": "code",
      "metadata": {
        "id": "6e_Ijsoj8ZOt",
        "colab_type": "code",
        "outputId": "1779d09c-0ee1-4a23-95d5-6357d00431e1",
        "colab": {
          "base_uri": "https://localhost:8080/",
          "height": 175
        }
      },
      "source": [
        "katrina.basefloodelevation.describe()"
      ],
      "execution_count": 25,
      "outputs": [
        {
          "output_type": "execute_result",
          "data": {
            "text/plain": [
              "count    85716.000000\n",
              "mean         4.564920\n",
              "std         37.079796\n",
              "min       -999.000000\n",
              "25%         -3.000000\n",
              "50%          1.000000\n",
              "75%          9.000000\n",
              "max       5481.200000\n",
              "Name: basefloodelevation, dtype: float64"
            ]
          },
          "metadata": {
            "tags": []
          },
          "execution_count": 25
        }
      ]
    },
    {
      "cell_type": "code",
      "metadata": {
        "id": "rH1JdhFTCA34",
        "colab_type": "code",
        "outputId": "806e7f85-4fcf-4014-f7db-c19428b11242",
        "colab": {
          "base_uri": "https://localhost:8080/",
          "height": 70
        }
      },
      "source": [
        "katrina.postfirmconstructionindicator.value_counts().sort_values(ascending=False).head(50)"
      ],
      "execution_count": 26,
      "outputs": [
        {
          "output_type": "execute_result",
          "data": {
            "text/plain": [
              "N    126470\n",
              "Y     82332\n",
              "Name: postfirmconstructionindicator, dtype: int64"
            ]
          },
          "metadata": {
            "tags": []
          },
          "execution_count": 26
        }
      ]
    },
    {
      "cell_type": "code",
      "metadata": {
        "id": "5rNyB3CzG51W",
        "colab_type": "code",
        "colab": {}
      },
      "source": [
        ""
      ],
      "execution_count": 0,
      "outputs": []
    }
  ]
}